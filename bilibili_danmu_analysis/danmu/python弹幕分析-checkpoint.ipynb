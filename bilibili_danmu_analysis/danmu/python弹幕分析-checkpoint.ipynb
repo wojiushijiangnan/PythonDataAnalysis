{
 "cells": [
  {
   "attachments": {
    "bilibili.webp": {}
   },
   "cell_type": "markdown",
   "id": "3184c2d4",
   "metadata": {},
   "source": [
    "![bilibili.webp](attachment:bilibili.webp)"
   ]
  },
  {
   "cell_type": "markdown",
   "id": "8c8b7ed4",
   "metadata": {},
   "source": "#   弹幕内容分析"
  },
  {
   "cell_type": "markdown",
   "id": "da01bb7a",
   "metadata": {},
   "source": ">"
  },
  {
   "cell_type": "markdown",
   "id": "2e820a4e",
   "metadata": {},
   "source": [
    "# 数据处理"
   ]
  },
  {
   "cell_type": "code",
   "id": "72460d3e",
   "metadata": {
    "ExecuteTime": {
     "end_time": "2025-09-04T12:26:04.711183Z",
     "start_time": "2025-09-04T12:26:04.256227Z"
    }
   },
   "source": [
    "import pandas as pd"
   ],
   "outputs": [],
   "execution_count": 1
  },
  {
   "cell_type": "code",
   "id": "dafb47aa",
   "metadata": {},
   "source": [
    "user_level = pd.read_excel('user_level.xlsx')"
   ],
   "outputs": [],
   "execution_count": null
  },
  {
   "cell_type": "code",
   "id": "5f44d27b",
   "metadata": {},
   "source": [
    "import os"
   ],
   "outputs": [],
   "execution_count": null
  },
  {
   "cell_type": "code",
   "id": "446979b4",
   "metadata": {},
   "source": [
    "excel_list = []\n",
    "for item in os.listdir('.ipynb_checkpoints/'):\n",
    "    if 'xlsx' in item and 'user_level' not in item:\n",
    "        excel_list.append(item)\n",
    "excel_list"
   ],
   "outputs": [],
   "execution_count": null
  },
  {
   "cell_type": "code",
   "id": "c2c80c3e",
   "metadata": {
    "scrolled": true
   },
   "source": [
    "danmu = pd.DataFrame()\n",
    "for item in excel_list:\n",
    "    excel = pd.read_excel(item, converters={'uid': str, 'id': str})\n",
    "    excel['视频标题'] = item\n",
    "    danmu = pd.concat([danmu, excel], axis=0)\n",
    "danmu"
   ],
   "outputs": [],
   "execution_count": null
  },
  {
   "cell_type": "code",
   "id": "8226efc4",
   "metadata": {},
   "source": [],
   "outputs": [],
   "execution_count": null
  },
  {
   "cell_type": "markdown",
   "id": "3bfdc298",
   "metadata": {},
   "source": [
    "# 时间"
   ]
  },
  {
   "cell_type": "markdown",
   "id": "f58c5b04",
   "metadata": {},
   "source": [
    "## 时间处理"
   ]
  },
  {
   "cell_type": "code",
   "id": "c996894a",
   "metadata": {},
   "source": [
    "from datetime import datetime"
   ],
   "outputs": [],
   "execution_count": null
  },
  {
   "cell_type": "code",
   "id": "11678773",
   "metadata": {},
   "source": [
    "danmu['弹幕创建时间'] = danmu['ctime'].map(datetime.fromtimestamp)"
   ],
   "outputs": [],
   "execution_count": null
  },
  {
   "cell_type": "code",
   "id": "a9a08564",
   "metadata": {},
   "source": [
    "danmu['年'] = danmu['弹幕创建时间'].map(lambda x: x.year)"
   ],
   "outputs": [],
   "execution_count": null
  },
  {
   "cell_type": "code",
   "id": "5cdd7214",
   "metadata": {
    "scrolled": true
   },
   "source": [
    "danmu['月份'] = danmu['弹幕创建时间'].map(lambda x: x.month)\n",
    "danmu['星期'] = danmu['弹幕创建时间'].map(datetime.isoweekday)\n",
    "danmu['小时'] = danmu['弹幕创建时间'].map(lambda x: x.hour)\n",
    "danmu"
   ],
   "outputs": [],
   "execution_count": null
  },
  {
   "cell_type": "markdown",
   "id": "ff6f5fd3",
   "metadata": {},
   "source": [
    "## 时间分析"
   ]
  },
  {
   "cell_type": "code",
   "id": "0ffde8f0",
   "metadata": {},
   "source": [
    "import matplotlib.pyplot as plt\n",
    "plt.rcParams['font.sans-serif'] = ['SimHei']"
   ],
   "outputs": [],
   "execution_count": null
  },
  {
   "cell_type": "markdown",
   "id": "3e3891dc",
   "metadata": {},
   "source": [
    "### 月份"
   ]
  },
  {
   "cell_type": "code",
   "id": "1bd7c7bd",
   "metadata": {
    "scrolled": true
   },
   "source": [
    "danmu_year = danmu[danmu['年']==2022]\n",
    "danmu_year"
   ],
   "outputs": [],
   "execution_count": null
  },
  {
   "cell_type": "code",
   "id": "ddb24259",
   "metadata": {
    "scrolled": true
   },
   "source": [
    "danmu_year.groupby('月份')[['id']].count().plot()"
   ],
   "outputs": [],
   "execution_count": null
  },
  {
   "cell_type": "markdown",
   "id": "05672da4",
   "metadata": {},
   "source": [
    "22年，3月份的弹幕非常活跃"
   ]
  },
  {
   "cell_type": "code",
   "id": "5d52c358",
   "metadata": {},
   "source": [
    "danmu_year.groupby('月份')[['uid']].nunique().plot()"
   ],
   "outputs": [],
   "execution_count": null
  },
  {
   "cell_type": "markdown",
   "id": "7f826860",
   "metadata": {},
   "source": [
    "22年，3月份，发弹幕的人也是最多的"
   ]
  },
  {
   "cell_type": "markdown",
   "id": "cbf47af4",
   "metadata": {},
   "source": [
    "假设1：季节？  \n",
    "假设2：视频进入了推流池子？  "
   ]
  },
  {
   "cell_type": "markdown",
   "id": "62b060d0",
   "metadata": {},
   "source": [
    "### 星期"
   ]
  },
  {
   "cell_type": "code",
   "id": "53e5054d",
   "metadata": {
    "scrolled": true
   },
   "source": [
    "danmu_year.groupby('星期')[['id']].count().plot()"
   ],
   "outputs": [],
   "execution_count": null
  },
  {
   "cell_type": "code",
   "id": "07407140",
   "metadata": {
    "scrolled": true
   },
   "source": [
    "danmu_year.groupby('星期')[['uid']].nunique().plot()"
   ],
   "outputs": [],
   "execution_count": null
  },
  {
   "cell_type": "markdown",
   "id": "15a38c3b",
   "metadata": {},
   "source": [
    "惊奇的发现，工作日1~4，周天，弹幕是最活跃的；周五或者周六活跃度会下降"
   ]
  },
  {
   "cell_type": "code",
   "id": "6424e6dc",
   "metadata": {
    "scrolled": false
   },
   "source": [
    "import pygwalker as pyg\n",
    "pyg.walk(danmu_year)"
   ],
   "outputs": [],
   "execution_count": null
  },
  {
   "cell_type": "markdown",
   "id": "308a01da",
   "metadata": {},
   "source": [
    "都是懂摸鱼的，而且还很勤奋"
   ]
  },
  {
   "cell_type": "code",
   "id": "78c26c92",
   "metadata": {},
   "source": [],
   "outputs": [],
   "execution_count": null
  },
  {
   "cell_type": "markdown",
   "id": "59661f83",
   "metadata": {},
   "source": [
    "# 用户画像"
   ]
  },
  {
   "cell_type": "code",
   "id": "de9ca186",
   "metadata": {
    "scrolled": true
   },
   "source": [
    "danmu"
   ],
   "outputs": [],
   "execution_count": null
  },
  {
   "cell_type": "markdown",
   "id": "ca130810",
   "metadata": {},
   "source": [
    "## 用户处理"
   ]
  },
  {
   "cell_type": "code",
   "id": "20afae5a",
   "metadata": {
    "scrolled": true
   },
   "source": [
    "danmu['用户弹幕数'] = danmu.groupby('uid')['id'].transform('count')\n",
    "danmu"
   ],
   "outputs": [],
   "execution_count": null
  },
  {
   "cell_type": "code",
   "id": "79a27481",
   "metadata": {},
   "source": [
    "user_level['uid'] = user_level['uid'].astype(str)"
   ],
   "outputs": [],
   "execution_count": null
  },
  {
   "cell_type": "code",
   "id": "67f01eb3",
   "metadata": {
    "scrolled": true
   },
   "source": [
    "danmu_level = pd.merge(danmu, user_level, on='uid', how='inner')\n",
    "danmu_level"
   ],
   "outputs": [],
   "execution_count": null
  },
  {
   "cell_type": "markdown",
   "id": "04758d4f",
   "metadata": {},
   "source": [
    "## 弹幕内容"
   ]
  },
  {
   "cell_type": "code",
   "id": "3dfe6943",
   "metadata": {
    "scrolled": true
   },
   "source": [
    "danmu_level.groupby('uid')[['id']].count().sort_values('id', ascending=False)"
   ],
   "outputs": [],
   "execution_count": null
  },
  {
   "cell_type": "code",
   "id": "f2c86776",
   "metadata": {
    "scrolled": true
   },
   "source": [
    "pd.set_option('display.max_rows', 300)\n",
    "danmu_level[danmu_level['uid']=='6653485828143602809']"
   ],
   "outputs": [],
   "execution_count": null
  },
  {
   "cell_type": "markdown",
   "id": "8e33c7ff",
   "metadata": {},
   "source": [
    "老大总共发了214条弹幕，具体内容可以发现，是一个上课非常积极的人，师兄在课程内有问，老大必有答，建议，纳为《学习课代表》"
   ]
  },
  {
   "cell_type": "code",
   "id": "d9305ffe",
   "metadata": {
    "scrolled": true
   },
   "source": [
    "danmu_level[danmu_level['uid']=='6812827409839048297']"
   ],
   "outputs": [],
   "execution_count": null
  },
  {
   "cell_type": "markdown",
   "id": "89b06aee",
   "metadata": {},
   "source": [
    "老二，发了187条弹幕，具体内容可以发现老二很有礼貌、嘴很甜，发了夸奖师兄的弹幕 同时 非常的爱笑，建议收纳为《课堂氛围组组长》"
   ]
  },
  {
   "cell_type": "code",
   "id": "e4fc0fdf",
   "metadata": {
    "scrolled": true
   },
   "source": [
    "danmu_level[danmu_level['uid']=='-3260951504495839240']"
   ],
   "outputs": [],
   "execution_count": null
  },
  {
   "cell_type": "markdown",
   "id": "9bc54284",
   "metadata": {},
   "source": [
    "老三，一共发了176条弹幕，老三是一个实操小能手，还是一个小黑子！发了一条：%o__o% 像不像师兄。老三应该被收纳为什么职位，有弹幕决定"
   ]
  },
  {
   "cell_type": "markdown",
   "id": "5355e750",
   "metadata": {},
   "source": [
    "## 等级分布"
   ]
  },
  {
   "cell_type": "code",
   "id": "2a294c32",
   "metadata": {
    "scrolled": true
   },
   "source": [
    "danmu_level.groupby('level')[['id']].count().plot(kind='bar')"
   ],
   "outputs": [],
   "execution_count": null
  },
  {
   "cell_type": "markdown",
   "id": "60ed16d1",
   "metadata": {},
   "source": [
    "大部分弹幕主要来自于4、5级用户。自学课程大部分发弹幕的观众，都是B站的粘性用户"
   ]
  },
  {
   "cell_type": "code",
   "id": "8077e837",
   "metadata": {
    "scrolled": true
   },
   "source": [
    "danmu_level.groupby('level')[['uid']].nunique().plot(kind='bar')"
   ],
   "outputs": [],
   "execution_count": null
  },
  {
   "cell_type": "markdown",
   "id": "a7192fae",
   "metadata": {},
   "source": [
    "# 视频内容"
   ]
  },
  {
   "cell_type": "markdown",
   "id": "c6fa7a2a",
   "metadata": {},
   "source": [
    "## 视频内容处理"
   ]
  },
  {
   "cell_type": "code",
   "id": "0d54fa24",
   "metadata": {
    "scrolled": true
   },
   "source": [
    "danmu"
   ],
   "outputs": [],
   "execution_count": null
  },
  {
   "cell_type": "code",
   "id": "84fc4f88",
   "metadata": {},
   "source": [
    "from time import strftime\n",
    "from time import gmtime"
   ],
   "outputs": [],
   "execution_count": null
  },
  {
   "cell_type": "code",
   "id": "adf2bb62",
   "metadata": {},
   "source": [
    "danmu['progress'] = danmu['progress']/1000"
   ],
   "outputs": [],
   "execution_count": null
  },
  {
   "cell_type": "code",
   "id": "841d9293",
   "metadata": {
    "scrolled": true
   },
   "source": [
    "danmu"
   ],
   "outputs": [],
   "execution_count": null
  },
  {
   "cell_type": "code",
   "id": "4f208edd",
   "metadata": {},
   "source": [
    "danmu['视频进度'] = danmu['progress'].map(lambda x: strftime('%H:%M:%S', gmtime(x)))"
   ],
   "outputs": [],
   "execution_count": null
  },
  {
   "cell_type": "code",
   "id": "d61b7c28",
   "metadata": {
    "scrolled": true
   },
   "source": [
    "danmu"
   ],
   "outputs": [],
   "execution_count": null
  },
  {
   "cell_type": "code",
   "id": "cbd3d7d3",
   "metadata": {
    "scrolled": true
   },
   "source": [
    "danmu['视频进度【时分】'] = danmu['视频进度'].str[:5]\n",
    "danmu"
   ],
   "outputs": [],
   "execution_count": null
  },
  {
   "cell_type": "code",
   "id": "a188f1fd",
   "metadata": {},
   "source": [],
   "outputs": [],
   "execution_count": null
  },
  {
   "cell_type": "markdown",
   "id": "5ef0f0b2",
   "metadata": {},
   "source": [
    "## 视频内容分析"
   ]
  },
  {
   "cell_type": "markdown",
   "id": "588504f3",
   "metadata": {},
   "source": [
    "### p1、系统认识数据分析"
   ]
  },
  {
   "cell_type": "code",
   "id": "a2fa9525",
   "metadata": {},
   "source": [
    "p1 = danmu[danmu['视频标题']=='1、系统认识数据分析.xlsx']"
   ],
   "outputs": [],
   "execution_count": null
  },
  {
   "cell_type": "code",
   "id": "44f55429",
   "metadata": {
    "scrolled": true
   },
   "source": [
    "p1.groupby('视频进度【时分】')[['id']].count().sort_values('id', ascending=False)"
   ],
   "outputs": [],
   "execution_count": null
  },
  {
   "cell_type": "markdown",
   "id": "4f395965",
   "metadata": {},
   "source": [
    "去掉开头结尾，11分钟有100条弹幕，但似乎并没有什么特殊的视频内容；9分钟，是因为PPT内有提问，大家在互动"
   ]
  },
  {
   "cell_type": "code",
   "id": "20650976",
   "metadata": {
    "scrolled": true
   },
   "source": [
    "p1[p1['视频进度【时分】']=='00:11']"
   ],
   "outputs": [],
   "execution_count": null
  },
  {
   "cell_type": "markdown",
   "id": "58b917bb",
   "metadata": {},
   "source": [
    "出现了节奏弹幕（在看的举手），诱发了弹幕激增"
   ]
  },
  {
   "cell_type": "markdown",
   "id": "d5fd8f1c",
   "metadata": {},
   "source": [
    "### p2、excel基础操作"
   ]
  },
  {
   "cell_type": "code",
   "id": "e64c1e4b",
   "metadata": {},
   "source": [
    "p2 = danmu[danmu['视频标题']=='2、EXCEL基础操作.xlsx']\n",
    "p2.groupby('视频进度【时分】')[['id']].count().sort_values('id', ascending=False)"
   ],
   "outputs": [],
   "execution_count": null
  },
  {
   "cell_type": "markdown",
   "id": "2f60f769",
   "metadata": {},
   "source": [
    "在3小时06~07分，弹幕表达了对师兄excel课程的认可，满意度非常高"
   ]
  },
  {
   "cell_type": "markdown",
   "id": "a6664a0f",
   "metadata": {},
   "source": [
    "### p3、tableau数据可视化"
   ]
  },
  {
   "cell_type": "code",
   "id": "d5ba671b",
   "metadata": {},
   "source": [
    "p3 = danmu[danmu['视频标题']=='3、Tableau数据可视化.xlsx']\n",
    "p3.groupby('视频进度【时分】')[['id']].count().sort_values('id', ascending=False)"
   ],
   "outputs": [],
   "execution_count": null
  },
  {
   "cell_type": "markdown",
   "id": "34a7f5ea",
   "metadata": {},
   "source": [
    "57分，师兄的画面卡住了，导致弹幕的激增"
   ]
  },
  {
   "cell_type": "markdown",
   "id": "d2d79f29",
   "metadata": {},
   "source": [
    "### p4、sql入门到实践"
   ]
  },
  {
   "cell_type": "code",
   "id": "b6073311",
   "metadata": {},
   "source": [
    "p4 = danmu[danmu['视频标题']=='4、SQL从入门到实战.xlsx']\n",
    "p4.groupby('视频进度【时分】')[['id']].count().sort_values('id', ascending=False)"
   ],
   "outputs": [],
   "execution_count": null
  },
  {
   "cell_type": "markdown",
   "id": "183a11d1",
   "metadata": {},
   "source": [
    "1小时9分，是一个有争议的问答环节，大家各抒己见"
   ]
  },
  {
   "cell_type": "markdown",
   "id": "55d82413",
   "metadata": {},
   "source": [
    "### p5、python"
   ]
  },
  {
   "cell_type": "code",
   "id": "a5ea1ca3",
   "metadata": {},
   "source": [
    "p4 = danmu[danmu['视频标题']=='5、Python.xlsx']\n",
    "p4.groupby('视频进度【时分】')[['id']].count().sort_values('id', ascending=False)"
   ],
   "outputs": [],
   "execution_count": null
  },
  {
   "cell_type": "markdown",
   "id": "ea09f4b6",
   "metadata": {},
   "source": [
    "21分，师兄在折磨观众，导致弹幕激增"
   ]
  },
  {
   "cell_type": "markdown",
   "id": "124ce414",
   "metadata": {},
   "source": [
    "---"
   ]
  },
  {
   "cell_type": "markdown",
   "id": "6dc6fc7b",
   "metadata": {},
   "source": [
    "|--|时序|\n",
    "|:--|:--|\n",
    "|现象or猜想|1、从月份角度看，3月份参与互动的用户积极度最高，也有可能3月得到了B站大量的曝光<br>2、从星期维度的角度看，大家每周的状态be like:周一都在忙着开会和工作，周二、三四都在狠狠の摸鱼！周五、六在疯狂爽玩，周天逐渐找回一点学习状态<br>3、从小时维度来看：自学2.0，发送弹幕的人，似乎能够分为2or3类不同的人群|"
   ]
  },
  {
   "cell_type": "markdown",
   "id": "6ad27ef4",
   "metadata": {},
   "source": [
    "|--|用户|\n",
    "|:--|:--|\n",
    "|结论|自学课程2.0主要的活跃用户都是由4、5级用户组成，师兄的粉丝有可能大部分都是B站的高度用户（当然有可能DY和B站都玩）<br>（6级大佬我就不多提了）|\n",
    "|备注|**1、如果师兄的粉丝和观众真的大部分都是B站的高度用户，那么能否去进一步评估站外引流的空间有多大、以及可行性<br>2、在此畅想猜测，B站的用户等级分布 是否也呈现两头窄、中间宽的情况？**|"
   ]
  },
  {
   "cell_type": "markdown",
   "id": "ec2ef4dc",
   "metadata": {},
   "source": [
    "|--|内容|\n",
    "|:--|:--|\n",
    "|结论|1、优质的视频内容是一定能够得到大家的认可的<br>2、弹幕的氛围与活跃度，可以直观的衡量教学类内容的视频节奏、以及知识的传达情况|\n",
    "|备注||"
   ]
  },
  {
   "cell_type": "code",
   "id": "6e7e8c62",
   "metadata": {},
   "source": [],
   "outputs": [],
   "execution_count": null
  },
  {
   "cell_type": "code",
   "id": "3f50bc54",
   "metadata": {},
   "source": [],
   "outputs": [],
   "execution_count": null
  }
 ],
 "metadata": {
  "kernelspec": {
   "display_name": "Python 3",
   "language": "python",
   "name": "python3"
  },
  "language_info": {
   "codemirror_mode": {
    "name": "ipython",
    "version": 3
   },
   "file_extension": ".py",
   "mimetype": "text/x-python",
   "name": "python",
   "nbconvert_exporter": "python",
   "pygments_lexer": "ipython3",
   "version": "3.8.8"
  },
  "toc": {
   "base_numbering": 1,
   "nav_menu": {},
   "number_sections": true,
   "sideBar": true,
   "skip_h1_title": false,
   "title_cell": "Table of Contents",
   "title_sidebar": "Contents",
   "toc_cell": false,
   "toc_position": {
    "height": "calc(100% - 180px)",
    "left": "10px",
    "top": "150px",
    "width": "336.362px"
   },
   "toc_section_display": true,
   "toc_window_display": true
  }
 },
 "nbformat": 4,
 "nbformat_minor": 5
}
